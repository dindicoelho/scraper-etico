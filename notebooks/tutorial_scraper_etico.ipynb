{
 "cells": [
  {
   "cell_type": "markdown",
   "metadata": {},
   "source": "# 🤖 ScraperÉtico - Tutorial Completo\n\n**Bem-vindo ao tutorial interativo do ScraperÉtico!** \n\nEsta biblioteca Python faz **web scraping ético** respeitando automaticamente robots.txt, rate limiting e exportando dados para CSV/JSON.\n\n## 🎯 O que você vai aprender neste tutorial:\n\n- ✅ **Como verificar** se uma URL pode ser acessada (robots.txt)\n- ✅ **Como fazer scraping** de forma ética e segura\n- ✅ **Como processar múltiplas URLs** em lote com paralelização\n- ✅ **Como exportar dados** para CSV e JSON automaticamente\n- ✅ **Como analisar resultados** com estatísticas detalhadas\n- ✅ **Boas práticas** para scraping ético\n\n## ⚠️ IMPORTANTE: \nEste tutorial usa sites **de exemplo seguros** (example.com, python.org). \n\nPara usar em **produção com seus sites reais**, você precisará editar o arquivo:\n📄 **`config_producao.py`** (copie de `config_producao.example.py`)\n\n**Vamos começar! 🚀**"
  },
  {
   "cell_type": "markdown",
   "metadata": {},
   "source": "## 📦 Passo 1: Instalação e Configuração\n\n**Primeiro, vamos instalar as dependências e importar as bibliotecas necessárias.**\n\nExecute a célula abaixo para garantir que tudo esteja instalado:\n\n💡 **Arquivo necessário**: `requirements.txt` (já deve estar na pasta do projeto)"
  },
  {
   "cell_type": "code",
   "execution_count": 1,
   "metadata": {},
   "outputs": [
    {
     "name": "stdout",
     "output_type": "stream",
     "text": [
      "Requirement already satisfied: requests in /Library/Frameworks/Python.framework/Versions/3.8/lib/python3.8/site-packages (2.32.4)\n",
      "Requirement already satisfied: charset_normalizer<4,>=2 in /Library/Frameworks/Python.framework/Versions/3.8/lib/python3.8/site-packages (from requests) (3.4.3)\n",
      "Requirement already satisfied: idna<4,>=2.5 in /Library/Frameworks/Python.framework/Versions/3.8/lib/python3.8/site-packages (from requests) (3.10)\n",
      "Requirement already satisfied: urllib3<3,>=1.21.1 in /Library/Frameworks/Python.framework/Versions/3.8/lib/python3.8/site-packages (from requests) (2.2.3)\n",
      "Requirement already satisfied: certifi>=2017.4.17 in /Library/Frameworks/Python.framework/Versions/3.8/lib/python3.8/site-packages (from requests) (2025.8.3)\n"
     ]
    }
   ],
   "source": [
    "# Instalar dependências (caso não estejam instaladas)\n",
    "!pip3 install requests\n",
    "# Opcionais: !pip3 install pandas matplotlib"
   ]
  },
  {
   "cell_type": "code",
   "execution_count": 2,
   "metadata": {},
   "outputs": [
    {
     "name": "stdout",
     "output_type": "stream",
     "text": [
      "⚠️ Pandas/Matplotlib não instalado - algumas funcionalidades estarão limitadas\n",
      "   Para instalar: pip3 install pandas matplotlib\n"
     ]
    }
   ],
   "source": [
    "# Importar as classes principais\n",
    "import sys\n",
    "sys.path.append('../src')\n",
    "\n",
    "from scraper_etico import ScraperEtico\n",
    "from analyzer import RobotsAnalyzer\n",
    "from batch_processor import BatchProcessor\n",
    "\n",
    "# Imports opcionais - comentar se não tiver instalado\n",
    "try:\n",
    "    import pandas as pd\n",
    "    import matplotlib.pyplot as plt\n",
    "    PANDAS_AVAILABLE = True\n",
    "except ImportError:\n",
    "    print(\"⚠️ Pandas/Matplotlib não instalado - algumas funcionalidades estarão limitadas\")\n",
    "    print(\"   Para instalar: pip3 install pandas matplotlib\")\n",
    "    PANDAS_AVAILABLE = False"
   ]
  },
  {
   "cell_type": "markdown",
   "metadata": {},
   "source": "## 🚀 Passo 2: Criar seu Primeiro Scraper\n\n**Agora vamos criar uma instância do ScraperÉtico e configurá-la adequadamente.**\n\n⚠️ **IMPORTANTE:** Sempre configure um user-agent descritivo com suas informações reais!\n\n📄 **Arquivos relacionados**: \n- `src/scraper_etico.py` (código principal - não edite)\n- `config_producao.py` (suas configurações - edite este para produção)"
  },
  {
   "cell_type": "code",
   "execution_count": 3,
   "metadata": {},
   "outputs": [
    {
     "name": "stderr",
     "output_type": "stream",
     "text": [
      "2025-09-04 12:58:09 - ScraperEtico - INFO - ScraperEtico initialized with user-agent: MeuBot/1.0 (exemplo.com/contato)\n"
     ]
    },
    {
     "name": "stdout",
     "output_type": "stream",
     "text": [
      "ScraperÉtico inicializado com sucesso!\n",
      "User-Agent: MeuBot/1.0 (exemplo.com/contato)\n",
      "Delay padrão: 1.0s\n"
     ]
    }
   ],
   "source": [
    "# Criar instância do scraper\n",
    "scraper = ScraperEtico(\n",
    "    user_agent=\"MeuBot/1.0 (exemplo.com/contato)\",\n",
    "    default_delay=1.0  # 1 segundo entre requests\n",
    ")\n",
    "\n",
    "print(\"ScraperÉtico inicializado com sucesso!\")\n",
    "print(f\"User-Agent: {scraper.user_agent}\")\n",
    "print(f\"Delay padrão: {scraper.default_delay}s\")"
   ]
  },
  {
   "cell_type": "code",
   "execution_count": 4,
   "metadata": {},
   "outputs": [
    {
     "name": "stdout",
     "output_type": "stream",
     "text": [
      "🔍 Testando: https://example.com/\n",
      "📄 Verificando robots.txt...\n"
     ]
    },
    {
     "name": "stderr",
     "output_type": "stream",
     "text": [
      "2025-09-04 12:58:10 - ScraperEtico - INFO - Successfully fetched robots.txt from https://example.com/robots.txt\n",
      "2025-09-04 12:58:10 - ScraperEtico - INFO - Fetching URL: https://example.com/\n"
     ]
    },
    {
     "name": "stdout",
     "output_type": "stream",
     "text": [
      "✅ Robots.txt permite acesso: True\n",
      "⏱️  Usando delay padrão: 1.0 segundos\n",
      "\n",
      "📡 Fazendo request ético...\n"
     ]
    },
    {
     "name": "stderr",
     "output_type": "stream",
     "text": [
      "2025-09-04 12:58:11 - ScraperEtico - INFO - Request completed: status=200, size=1256 bytes, time=0.71s\n"
     ]
    },
    {
     "name": "stdout",
     "output_type": "stream",
     "text": [
      "✅ Sucesso!\n",
      "   Status Code: 200\n",
      "   Tamanho da página: 1,256 caracteres\n",
      "   Content-Type: text/html\n",
      "   Preview: <!doctype html> <html> <head>     <title>Example Domain</title>      <meta charset=\"utf-8\" />     <meta http-equiv=\"Content-type\" content=\"text/html; charset=utf-8\" />     <meta name=\"viewport\" conten...\n"
     ]
    }
   ],
   "source": [
    "# 🧪 Passo 3: Primeiro Teste - Verificar uma URL\n",
    "\n",
    "# Vamos testar com um site seguro e confiável\n",
    "url_teste = \"https://example.com/\"\n",
    "\n",
    "print(f\"🔍 Testando: {url_teste}\")\n",
    "print(f\"📄 Verificando robots.txt...\")\n",
    "\n",
    "# 1. Verificar se o site permite scraping\n",
    "pode_acessar = scraper.can_fetch(url_teste)\n",
    "print(f\"✅ Robots.txt permite acesso: {pode_acessar}\")\n",
    "\n",
    "# 2. Verificar se há crawl-delay específico\n",
    "delay = scraper.get_crawl_delay(url_teste)\n",
    "if delay:\n",
    "    print(f\"⏱️  Site especifica crawl-delay: {delay} segundos\")\n",
    "else:\n",
    "    print(f\"⏱️  Usando delay padrão: {scraper.default_delay} segundos\")\n",
    "\n",
    "# 3. Se permitido, fazer o request\n",
    "if pode_acessar:\n",
    "    print(f\"\\n📡 Fazendo request ético...\")\n",
    "    response = scraper.get(url_teste)\n",
    "    \n",
    "    if response:\n",
    "        print(f\"✅ Sucesso!\")\n",
    "        print(f\"   Status Code: {response.status_code}\")\n",
    "        print(f\"   Tamanho da página: {len(response.text):,} caracteres\")\n",
    "        print(f\"   Content-Type: {response.headers.get('content-type', 'N/A')}\")\n",
    "        \n",
    "        # Mostrar início do conteúdo\n",
    "        preview = response.text[:200].replace('\\n', ' ')\n",
    "        print(f\"   Preview: {preview}...\")\n",
    "    else:\n",
    "        print(\"❌ Request falhou\")\n",
    "else:\n",
    "    print(\"❌ Site não permite scraping - respeitando robots.txt\")"
   ]
  },
  {
   "cell_type": "markdown",
   "metadata": {},
   "source": [
    "## 📊 Análise Avançada de robots.txt\n",
    "\n",
    "O RobotsAnalyzer permite fazer análises detalhadas de arquivos robots.txt."
   ]
  },
  {
   "cell_type": "code",
   "execution_count": 5,
   "metadata": {},
   "outputs": [
    {
     "name": "stdout",
     "output_type": "stream",
     "text": [
      "🔍 Análise manual do robots.txt de https://www.python.org\n",
      "📄 Robots.txt encontrado: ✅\n",
      "🤖 User-agents definidos: 6\n",
      "🚫 Total de regras: 7\n",
      "🗺️  Sitemaps: 0\n",
      "\n",
      "📝 Primeiras 10 linhas:\n",
      "   # Directions for robots.  See this URL:\n",
      "   # http://www.robotstxt.org/robotstxt.html\n",
      "   # for a description of the file format.\n",
      "   User-agent: HTTrack\n",
      "   User-agent: puf\n",
      "   User-agent: MSIECrawler\n",
      "   Disallow: /\n",
      "   # The Krugle web crawler (though based on Nutch) is OK.\n"
     ]
    }
   ],
   "source": [
    "# Criar instância do analisador\n",
    "analyzer = RobotsAnalyzer()\n",
    "\n",
    "# Analisar robots.txt de um site conhecido\n",
    "site_teste = \"https://www.python.org\"\n",
    "\n",
    "# Primeiro, baixar o conteúdo do robots.txt\n",
    "try:\n",
    "    import requests\n",
    "    response = requests.get(f\"{site_teste}/robots.txt\", timeout=10)\n",
    "    if response.status_code == 200:\n",
    "        print(f\"🔍 Análise manual do robots.txt de {site_teste}\")\n",
    "        \n",
    "        # Análise simples do conteúdo\n",
    "        robots_content = response.text\n",
    "        lines = robots_content.split('\\n')\n",
    "        \n",
    "        # Contar elementos\n",
    "        user_agents = sum(1 for line in lines if line.lower().startswith('user-agent:'))\n",
    "        disallows = sum(1 for line in lines if line.lower().startswith('disallow:'))\n",
    "        allows = sum(1 for line in lines if line.lower().startswith('allow:'))\n",
    "        sitemaps = sum(1 for line in lines if line.lower().startswith('sitemap:'))\n",
    "        \n",
    "        print(f\"📄 Robots.txt encontrado: ✅\")\n",
    "        print(f\"🤖 User-agents definidos: {user_agents}\")\n",
    "        print(f\"🚫 Total de regras: {disallows + allows}\")\n",
    "        print(f\"🗺️  Sitemaps: {sitemaps}\")\n",
    "        \n",
    "        # Mostrar primeiras linhas\n",
    "        print(f\"\\n📝 Primeiras 10 linhas:\")\n",
    "        for i, line in enumerate(lines[:10]):\n",
    "            if line.strip():\n",
    "                print(f\"   {line}\")\n",
    "                \n",
    "except Exception as e:\n",
    "    print(f\"❌ Erro ao analisar: {e}\")"
   ]
  },
  {
   "cell_type": "code",
   "execution_count": 6,
   "metadata": {},
   "outputs": [
    {
     "name": "stdout",
     "output_type": "stream",
     "text": [
      "\n",
      "🗺️ Sitemaps encontrados:\n",
      "\n",
      "🤖 Alguns User-agents:\n",
      "  - HTTrack\n",
      "  - puf\n",
      "  - MSIECrawler\n",
      "  - Krugle\n",
      "  - Nutch\n"
     ]
    }
   ],
   "source": [
    "# Mostrar exemplos de sitemaps encontrados (se houver)\n",
    "if 'robots_content' in locals():\n",
    "    print(\"\\n🗺️ Sitemaps encontrados:\")\n",
    "    for line in robots_content.split('\\n'):\n",
    "        if line.lower().startswith('sitemap:'):\n",
    "            print(f\"  - {line.split(':', 1)[1].strip()}\")\n",
    "    \n",
    "    # Mostrar alguns user-agents\n",
    "    print(\"\\n🤖 Alguns User-agents:\")\n",
    "    count = 0\n",
    "    for line in robots_content.split('\\n'):\n",
    "        if line.lower().startswith('user-agent:') and count < 5:\n",
    "            print(f\"  - {line.split(':', 1)[1].strip()}\")\n",
    "            count += 1"
   ]
  },
  {
   "cell_type": "markdown",
   "metadata": {},
   "source": "## 🔄 Passo 4: Processamento em Lote (Múltiplas URLs)\n\n**Agora vamos processar várias URLs de uma só vez usando o BatchProcessor.**\n\nIsso é útil quando você quer monitorar múltiplos sites automaticamente.\n\n📄 **Arquivos relacionados**:\n- `src/batch_processor.py` (código do processamento - não edite)\n- Para produção, edite a lista de sites em: `config_producao.py` → `SITES_PRODUCAO`"
  },
  {
   "cell_type": "code",
   "execution_count": 7,
   "metadata": {},
   "outputs": [
    {
     "name": "stderr",
     "output_type": "stream",
     "text": [
      "2025-09-04 12:58:11 - ScraperEtico - INFO - ScraperEtico initialized with user-agent: ScraperEtico/1.0 (Ethical Web Scraper)\n",
      "2025-09-04 12:58:11 - BatchProcessor - INFO - BatchProcessor initialized with state dir: batch_states\n",
      "2025-09-04 12:58:11 - ScraperEtico - INFO - ScraperEtico initialized with user-agent: Tutorial/1.0 (aprendendo-scraping-etico)\n"
     ]
    },
    {
     "name": "stdout",
     "output_type": "stream",
     "text": [
      "📦 Processador em lote criado\n",
      "🔗 URLs para processar: 5\n",
      "🤖 User-agent: Tutorial/1.0 (aprendendo-scraping-etico)\n",
      "⏱️  Delay padrão: 1.5s\n"
     ]
    }
   ],
   "source": [
    "# Lista de URLs para testar\n",
    "urls_teste = [\n",
    "    \"https://httpbin.org/get\",\n",
    "    \"https://www.python.org/about/\",\n",
    "    \"https://docs.python.org/3/\",\n",
    "    \"https://github.com/python\",\n",
    "    \"https://stackoverflow.com/questions\"\n",
    "]\n",
    "\n",
    "# Criar processador em lote - API correta (sem parâmetros no construtor)\n",
    "batch_processor = BatchProcessor()\n",
    "\n",
    "# Configurar ScraperEtico com parâmetros desejados\n",
    "batch_processor.scraper = ScraperEtico(\n",
    "    user_agent=\"Tutorial/1.0 (aprendendo-scraping-etico)\",\n",
    "    default_delay=1.5\n",
    ")\n",
    "\n",
    "print(f\"📦 Processador em lote criado\")\n",
    "print(f\"🔗 URLs para processar: {len(urls_teste)}\")\n",
    "print(f\"🤖 User-agent: {batch_processor.scraper.user_agent}\")\n",
    "print(f\"⏱️  Delay padrão: {batch_processor.scraper.default_delay}s\")"
   ]
  },
  {
   "cell_type": "code",
   "execution_count": 8,
   "metadata": {},
   "outputs": [
    {
     "name": "stderr",
     "output_type": "stream",
     "text": [
      "2025-09-04 12:58:11 - BatchProcessor - INFO - Starting batch job 'batch_20250904_125811' with 5 URLs, 2 workers, analyze_robots=True\n",
      "2025-09-04 12:58:11 - ScraperEtico - INFO - Successfully fetched robots.txt from https://www.python.org/robots.txt\n",
      "2025-09-04 12:58:11 - ScraperEtico - INFO - Fetching URL: https://www.python.org/about/\n"
     ]
    },
    {
     "name": "stdout",
     "output_type": "stream",
     "text": [
      "🚀 Iniciando processamento em lote...\n",
      "\n"
     ]
    },
    {
     "name": "stderr",
     "output_type": "stream",
     "text": [
      "2025-09-04 12:58:11 - ScraperEtico - INFO - Request completed: status=200, size=43804 bytes, time=0.09s\n",
      "2025-09-04 12:58:11 - BatchProcessor - INFO - Successfully processed: https://www.python.org/about/ (status: 200, size: 43804 bytes, time: 0.09s)\n",
      "2025-09-04 12:58:11 - RobotsAnalyzer - INFO - Fetching robots.txt from: https://www.python.org/robots.txt\n",
      "2025-09-04 12:58:11 - RobotsAnalyzer - INFO - Successfully fetched robots.txt (537 chars)\n",
      "2025-09-04 12:58:11 - RobotsAnalyzer - INFO - Parsed robots.txt: 6 user-agents, 0 sitemaps, 0 errors\n",
      "2025-09-04 12:58:11 - ScraperEtico - INFO - Successfully fetched robots.txt from https://docs.python.org/robots.txt\n",
      "2025-09-04 12:58:11 - ScraperEtico - INFO - Fetching URL: https://docs.python.org/3/\n",
      "2025-09-04 12:58:11 - ScraperEtico - INFO - Request completed: status=200, size=17874 bytes, time=0.09s\n",
      "2025-09-04 12:58:11 - BatchProcessor - INFO - Successfully processed: https://docs.python.org/3/ (status: 200, size: 17874 bytes, time: 0.09s)\n",
      "2025-09-04 12:58:11 - RobotsAnalyzer - INFO - Fetching robots.txt from: https://docs.python.org/robots.txt\n",
      "2025-09-04 12:58:12 - RobotsAnalyzer - INFO - Successfully fetched robots.txt (484 chars)\n",
      "2025-09-04 12:58:12 - RobotsAnalyzer - INFO - Parsed robots.txt: 1 user-agents, 1 sitemaps, 0 errors\n",
      "2025-09-04 12:58:12 - ScraperEtico - INFO - Successfully fetched robots.txt from https://github.com/robots.txt\n",
      "2025-09-04 12:58:12 - ScraperEtico - INFO - Fetching URL: https://github.com/python\n",
      "2025-09-04 12:58:12 - ScraperEtico - INFO - Request completed: status=200, size=297150 bytes, time=0.59s\n",
      "2025-09-04 12:58:13 - BatchProcessor - INFO - Successfully processed: https://github.com/python (status: 200, size: 297150 bytes, time: 0.60s)\n",
      "2025-09-04 12:58:13 - RobotsAnalyzer - INFO - Fetching robots.txt from: https://github.com/robots.txt\n",
      "2025-09-04 12:58:13 - RobotsAnalyzer - INFO - Successfully fetched robots.txt (1551 chars)\n",
      "2025-09-04 12:58:13 - RobotsAnalyzer - INFO - Parsed robots.txt: 2 user-agents, 0 sitemaps, 0 errors\n",
      "2025-09-04 12:58:13 - ScraperEtico - INFO - Successfully fetched robots.txt from https://stackoverflow.com/robots.txt\n",
      "2025-09-04 12:58:13 - ScraperEtico - INFO - Fetching URL: https://stackoverflow.com/questions\n",
      "2025-09-04 12:58:13 - ScraperEtico - INFO - Request completed: status=200, size=209936 bytes, time=0.41s\n",
      "2025-09-04 12:58:13 - BatchProcessor - INFO - Successfully processed: https://stackoverflow.com/questions (status: 200, size: 209936 bytes, time: 0.41s)\n",
      "2025-09-04 12:58:13 - RobotsAnalyzer - INFO - Fetching robots.txt from: https://stackoverflow.com/robots.txt\n",
      "2025-09-04 12:58:13 - RobotsAnalyzer - ERROR - HTTP error 418 fetching robots.txt from https://stackoverflow.com/robots.txt\n",
      "2025-09-04 12:58:18 - ScraperEtico - INFO - Successfully fetched robots.txt from https://httpbin.org/robots.txt\n",
      "2025-09-04 12:58:18 - ScraperEtico - INFO - Fetching URL: https://httpbin.org/get\n",
      "2025-09-04 12:58:19 - ScraperEtico - INFO - Request completed: status=200, size=325 bytes, time=1.19s\n",
      "2025-09-04 12:58:19 - BatchProcessor - INFO - Successfully processed: https://httpbin.org/get (status: 200, size: 325 bytes, time: 1.20s)\n",
      "2025-09-04 12:58:19 - RobotsAnalyzer - INFO - Fetching robots.txt from: https://httpbin.org/robots.txt\n",
      "2025-09-04 12:58:29 - RobotsAnalyzer - INFO - Successfully fetched robots.txt (30 chars)\n",
      "2025-09-04 12:58:29 - RobotsAnalyzer - INFO - Parsed robots.txt: 1 user-agents, 0 sitemaps, 0 errors\n",
      "2025-09-04 12:58:29 - BatchProcessor - INFO - Batch job 'batch_20250904_125811' completed: 5 successful, 0 failed, total time: 18.11s\n"
     ]
    },
    {
     "name": "stdout",
     "output_type": "stream",
     "text": [
      "\n",
      "✨ Processamento concluído!\n",
      "📊 Estatísticas:\n",
      "   Total: 5 URLs\n",
      "   Processadas: 5\n",
      "   Sucesso: 5\n",
      "   Falhas: 0\n",
      "   Taxa de sucesso: 100.0%\n"
     ]
    }
   ],
   "source": [
    "# Executar processamento em lote\n",
    "print(\"🚀 Iniciando processamento em lote...\\n\")\n",
    "\n",
    "# Usar o método process_batch (não processar_lote) com max_workers como parâmetro\n",
    "job_state = batch_processor.process_batch(\n",
    "    urls_teste,\n",
    "    max_workers=2,  # max_workers vai aqui no método, não no construtor\n",
    "    show_progress=True\n",
    ")\n",
    "\n",
    "print(f\"\\n✨ Processamento concluído!\")\n",
    "print(f\"📊 Estatísticas:\")\n",
    "print(f\"   Total: {job_state.total_urls} URLs\")\n",
    "print(f\"   Processadas: {job_state.processed_count}\")\n",
    "print(f\"   Sucesso: {len(job_state.completed_urls)}\")\n",
    "print(f\"   Falhas: {len(job_state.failed_urls)}\")\n",
    "print(f\"   Taxa de sucesso: {job_state.completion_percentage:.1f}%\")"
   ]
  },
  {
   "cell_type": "markdown",
   "metadata": {},
   "source": [
    "## 📈 Análise de Resultados\n",
    "\n",
    "Vamos analisar os resultados do processamento em lote."
   ]
  },
  {
   "cell_type": "code",
   "execution_count": 9,
   "metadata": {},
   "outputs": [
    {
     "name": "stdout",
     "output_type": "stream",
     "text": [
      "📊 Resumo dos resultados:\n",
      "✅ URLs com sucesso: 5\n",
      "❌ URLs com falha: 0\n",
      "🤖 URLs permitidas por robots.txt: 5\n",
      "\n",
      "📋 Detalhes:\n",
      "✅🤖 https://www.python.org/about/... - Status: 200\n",
      "✅🤖 https://docs.python.org/3/... - Status: 200\n",
      "✅🤖 https://github.com/python... - Status: 200\n",
      "✅🤖 https://stackoverflow.com/questions... - Status: 200\n",
      "✅🤖 https://httpbin.org/get... - Status: 200\n"
     ]
    }
   ],
   "source": [
    "# Análise dos resultados\n",
    "if PANDAS_AVAILABLE:\n",
    "    # Converter para DataFrame para análise\n",
    "    df = pd.DataFrame([\n",
    "        {\n",
    "            'url': resultado.url,\n",
    "            'domain': resultado.domain,\n",
    "            'success': resultado.success,\n",
    "            'robots_allowed': resultado.robots_allowed,\n",
    "            'crawl_delay': resultado.crawl_delay,\n",
    "            'status_code': resultado.status_code,\n",
    "            'response_size': resultado.response_size,\n",
    "            'error_type': resultado.error_type\n",
    "        }\n",
    "        for resultado in job_state.results\n",
    "    ])\n",
    "    \n",
    "    print(\"📊 Resumo dos resultados:\")\n",
    "    print(f\"✅ URLs com sucesso: {df['success'].sum()}\")\n",
    "    print(f\"❌ URLs com falha: {(~df['success']).sum()}\")\n",
    "    print(f\"🤖 URLs permitidas por robots.txt: {df['robots_allowed'].sum() if df['robots_allowed'].notna().any() else 'N/A'}\")\n",
    "    \n",
    "    # Mostrar tabela\n",
    "    print(\"\\n📋 Detalhes:\")\n",
    "    print(df[['url', 'success', 'robots_allowed', 'status_code']].head())\n",
    "else:\n",
    "    # Análise sem pandas\n",
    "    print(\"📊 Resumo dos resultados:\")\n",
    "    success_count = sum(1 for r in job_state.results if r.success)\n",
    "    total_count = len(job_state.results)\n",
    "    robots_allowed_count = sum(1 for r in job_state.results if r.robots_allowed)\n",
    "    \n",
    "    print(f\"✅ URLs com sucesso: {success_count}\")\n",
    "    print(f\"❌ URLs com falha: {total_count - success_count}\")\n",
    "    print(f\"🤖 URLs permitidas por robots.txt: {robots_allowed_count}\")\n",
    "    \n",
    "    print(\"\\n📋 Detalhes:\")\n",
    "    for resultado in job_state.results[:5]:  # Mostrar primeiros 5\n",
    "        status = \"✅\" if resultado.success else \"❌\"\n",
    "        robots_status = \"🤖\" if resultado.robots_allowed else \"🚫\"\n",
    "        print(f\"{status}{robots_status} {resultado.url[:50]}... - Status: {resultado.status_code}\")"
   ]
  },
  {
   "cell_type": "code",
   "execution_count": 10,
   "metadata": {},
   "outputs": [
    {
     "name": "stdout",
     "output_type": "stream",
     "text": [
      "📊 Visualizações não disponíveis - instale pandas e matplotlib\n"
     ]
    }
   ],
   "source": [
    "# Criar visualização (se pandas/matplotlib disponível)\n",
    "if PANDAS_AVAILABLE:\n",
    "    fig, (ax1, ax2) = plt.subplots(1, 2, figsize=(12, 5))\n",
    "    \n",
    "    # Gráfico 1: Permitido vs Bloqueado\n",
    "    permitidos = df['allowed'].value_counts()\n",
    "    if len(permitidos) == 2:\n",
    "        labels = ['Bloqueado', 'Permitido'] if False in permitidos.index else ['Permitido']\n",
    "    else:\n",
    "        labels = ['Permitido' if permitidos.index[0] else 'Bloqueado']\n",
    "    \n",
    "    ax1.pie(permitidos.values, labels=labels, autopct='%1.1f%%', \n",
    "            colors=['#ff6b6b', '#4ecdc4'] if len(permitidos) == 2 else ['#4ecdc4'])\n",
    "    ax1.set_title('URLs: Permitidas vs Bloqueadas')\n",
    "    \n",
    "    # Gráfico 2: Sites com/sem robots.txt\n",
    "    robots = df['robots_found'].value_counts()\n",
    "    if len(robots) == 2:\n",
    "        labels = ['Sem robots.txt', 'Com robots.txt'] if False in robots.index else ['Com robots.txt']\n",
    "    else:\n",
    "        labels = ['Com robots.txt' if robots.index[0] else 'Sem robots.txt']\n",
    "        \n",
    "    ax2.pie(robots.values, labels=labels, autopct='%1.1f%%',\n",
    "            colors=['#ffa726', '#66bb6a'] if len(robots) == 2 else ['#66bb6a'])\n",
    "    ax2.set_title('Sites com robots.txt')\n",
    "    \n",
    "    plt.tight_layout()\n",
    "    plt.show()\n",
    "else:\n",
    "    print(\"📊 Visualizações não disponíveis - instale pandas e matplotlib\")"
   ]
  },
  {
   "cell_type": "markdown",
   "metadata": {},
   "source": "## 📊 Passo 5: Exportar Resultados para CSV e JSON\n\n**Agora vamos exportar os dados para formatos que você pode usar no Excel, Python, ou outras ferramentas.**\n\n📄 **Arquivos gerados**:\n- `resultados_scraping_YYYYMMDD_HHMMSS.csv` (Excel/Google Sheets)\n- `resultados_scraping_YYYYMMDD_HHMMSS.json` (análise programática)\n\n📁 **Pasta de destino**: Arquivos serão salvos na pasta atual do notebook"
  },
  {
   "cell_type": "code",
   "execution_count": 11,
   "metadata": {},
   "outputs": [
    {
     "name": "stderr",
     "output_type": "stream",
     "text": [
      "2025-09-04 12:58:29 - BatchProcessor - INFO - Exported 5 results to CSV: resultados_scraping_20250904_125829.csv\n",
      "2025-09-04 12:58:29 - BatchProcessor - INFO - Exported 5 results to JSON: resultados_scraping_20250904_125829.json\n"
     ]
    },
    {
     "name": "stdout",
     "output_type": "stream",
     "text": [
      "📄 Resultados salvos em: resultados_scraping_20250904_125829.csv\n",
      "📄 Resultados salvos em: resultados_scraping_20250904_125829.json\n"
     ]
    }
   ],
   "source": [
    "# Exportar resultados\n",
    "from datetime import datetime\n",
    "\n",
    "# Nome do arquivo com timestamp\n",
    "nome_arquivo = f\"resultados_scraping_{datetime.now().strftime('%Y%m%d_%H%M%S')}\"\n",
    "\n",
    "if PANDAS_AVAILABLE:\n",
    "    # Exportar com pandas\n",
    "    df.to_csv(f\"{nome_arquivo}.csv\", index=False)\n",
    "    print(f\"📄 Resultados salvos em: {nome_arquivo}.csv\")\n",
    "else:\n",
    "    # Exportar usando os métodos do BatchProcessor\n",
    "    batch_processor.export_to_csv(job_state, f\"{nome_arquivo}.csv\")\n",
    "    print(f\"📄 Resultados salvos em: {nome_arquivo}.csv\")\n",
    "\n",
    "# Exportar para JSON usando BatchProcessor\n",
    "batch_processor.export_to_json(job_state, f\"{nome_arquivo}.json\")\n",
    "print(f\"📄 Resultados salvos em: {nome_arquivo}.json\")"
   ]
  },
  {
   "cell_type": "markdown",
   "metadata": {},
   "source": "## 🛡️ Passo 6: Princípios Éticos - O que Você DEVE Saber\n\n### ✅ **O ScraperÉtico SEMPRE faz automaticamente:**\n\n- 🔍 **Verifica robots.txt** antes de cada acesso\n- ⏱️ **Aplica delays** entre requests (nunca sobrecarrega)\n- 🤖 **Identifica o bot** com user-agent claro\n- 📝 **Gera logs completos** para auditoria\n- 🚨 **Para se bloqueado** (erro 429, robots.txt)\n\n### ❌ **O ScraperÉtico NUNCA faz:**\n\n- ❌ Ignora robots.txt ou termos de uso\n- ❌ Faz requests sem delay\n- ❌ Usa user-agents falsos de navegadores\n- ❌ Esconde a identidade do bot\n- ❌ Continua tentando quando bloqueado\n\n### 🚨 **Suas responsabilidades como usuário:**\n\n1. **Configure user-agent** com SEU site e SEU email reais\n2. **Use delays adequados** (mínimo 1s, recomendado 3-5s para sites gov)\n3. **Monitore logs** regularmente\n4. **Respeite termos de uso** dos sites\n5. **Tenha propósito legítimo** para o scraping\n\n### 📞 **Exemplo de User-Agent Ético:**\n\n```python\n# ✅ BOM - Identifica claramente quem você é\nuser_agent = \"MeuProjeto/1.0 (+https://github.com/usuario/projeto; contato@email.com)\"\nuser_agent = \"PesquisaTCC/1.0 (+https://universidade.br/tcc; aluno@univ.br)\"  \nuser_agent = \"AnalisePublica/1.0 (+https://empresa.com/pesquisa; pesquisa@empresa.com)\"\n\n# ❌ RUIM - Genérico demais\nuser_agent = \"MeuBot/1.0\"\nuser_agent = \"Python-requests/2.28\"  # Padrão do requests\n```\n\n### 📄 **IMPORTANTE: Configure no arquivo `config_producao.py`**\nPara produção, copie `config_producao.example.py` → `config_producao.py` e edite:\n- `USER_AGENT` - Com seus dados reais\n- `SITES_PRODUCAO` - Com seus sites para monitorar  \n- `DEFAULT_DELAY` - Conforme tipo de sites (gov = 5s+)"
  },
  {
   "cell_type": "markdown",
   "metadata": {},
   "source": [
    "## 🔧 Configurações Avançadas"
   ]
  },
  {
   "cell_type": "code",
   "execution_count": 12,
   "metadata": {},
   "outputs": [
    {
     "name": "stderr",
     "output_type": "stream",
     "text": [
      "2025-09-04 12:58:29 - ScraperEtico - INFO - ScraperEtico initialized with user-agent: MeuProjeto/2.0 (+http://meusite.com/sobre-bot)\n"
     ]
    },
    {
     "name": "stdout",
     "output_type": "stream",
     "text": [
      "🔧 Scraper personalizado configurado!\n"
     ]
    }
   ],
   "source": [
    "# Exemplo de configuração personalizada\n",
    "import logging\n",
    "\n",
    "scraper_personalizado = ScraperEtico(\n",
    "    user_agent=\"MeuProjeto/2.0 (+http://meusite.com/sobre-bot)\",\n",
    "    default_delay=2.0,  # Delay mais conservador\n",
    "    timeout=10.0,       # Timeout menor\n",
    "    log_level=logging.DEBUG  # Logs mais detalhados\n",
    ")\n",
    "\n",
    "# Acessar a sessão de requests para configurar headers\n",
    "import requests\n",
    "session = requests.Session()\n",
    "session.headers.update({\n",
    "    'User-Agent': scraper_personalizado.user_agent,\n",
    "    'Accept': 'text/html,application/xhtml+xml,application/xml;q=0.9,*/*;q=0.8',\n",
    "    'Accept-Language': 'pt-BR,pt;q=0.9,en;q=0.8',\n",
    "    'From': 'contato@meusite.com'  # Email para contato\n",
    "})\n",
    "\n",
    "# Usar a sessão customizada\n",
    "scraper_personalizado.session = session\n",
    "\n",
    "print(\"🔧 Scraper personalizado configurado!\")"
   ]
  },
  {
   "cell_type": "markdown",
   "metadata": {},
   "source": [
    "## 🎯 Casos de Uso Práticos\n",
    "\n",
    "### 1. Verificação de Lista de Sites"
   ]
  },
  {
   "cell_type": "code",
   "execution_count": 13,
   "metadata": {},
   "outputs": [
    {
     "name": "stderr",
     "output_type": "stream",
     "text": [
      "2025-09-04 12:58:29 - ScraperEtico - DEBUG - Fetching robots.txt from: https://g1.globo.com/robots.txt\n"
     ]
    },
    {
     "name": "stdout",
     "output_type": "stream",
     "text": [
      "📰 Verificando sites de notícias...\n"
     ]
    },
    {
     "name": "stderr",
     "output_type": "stream",
     "text": [
      "2025-09-04 12:58:29 - ScraperEtico - INFO - Successfully fetched robots.txt from https://g1.globo.com/robots.txt\n",
      "2025-09-04 12:58:29 - ScraperEtico - DEBUG - Robots.txt check for https://g1.globo.com/rss: allowed\n",
      "2025-09-04 12:58:29 - ScraperEtico - DEBUG - Fetching robots.txt from: https://folha.uol.com.br/robots.txt\n"
     ]
    },
    {
     "name": "stdout",
     "output_type": "stream",
     "text": [
      "✅ Permitido - https://g1.globo.com/rss\n"
     ]
    },
    {
     "name": "stderr",
     "output_type": "stream",
     "text": [
      "2025-09-04 12:58:30 - ScraperEtico - INFO - Successfully fetched robots.txt from https://folha.uol.com.br/robots.txt\n",
      "2025-09-04 12:58:30 - ScraperEtico - DEBUG - Robots.txt check for https://folha.uol.com.br/rss: allowed\n",
      "2025-09-04 12:58:30 - ScraperEtico - DEBUG - Fetching robots.txt from: https://estadao.com.br/robots.txt\n"
     ]
    },
    {
     "name": "stdout",
     "output_type": "stream",
     "text": [
      "✅ Permitido - https://folha.uol.com.br/rss\n"
     ]
    },
    {
     "name": "stderr",
     "output_type": "stream",
     "text": [
      "2025-09-04 12:58:30 - ScraperEtico - INFO - Successfully fetched robots.txt from https://estadao.com.br/robots.txt\n",
      "2025-09-04 12:58:30 - ScraperEtico - DEBUG - Robots.txt check for https://estadao.com.br/rss: allowed\n"
     ]
    },
    {
     "name": "stdout",
     "output_type": "stream",
     "text": [
      "✅ Permitido - https://estadao.com.br/rss\n"
     ]
    }
   ],
   "source": [
    "# Lista de sites de notícias para verificar\n",
    "sites_noticias = [\n",
    "    \"https://g1.globo.com/rss\",\n",
    "    \"https://folha.uol.com.br/rss\",\n",
    "    \"https://estadao.com.br/rss\",\n",
    "]\n",
    "\n",
    "print(\"📰 Verificando sites de notícias...\")\n",
    "for site in sites_noticias:\n",
    "    try:\n",
    "        # API correta: can_fetch ao invés de verificar_robots\n",
    "        resultado = scraper.can_fetch(site)\n",
    "        status = \"✅ Permitido\" if resultado else \"❌ Bloqueado\"\n",
    "        print(f\"{status} - {site}\")\n",
    "        \n",
    "        # Verificar crawl-delay também\n",
    "        delay = scraper.get_crawl_delay(site)\n",
    "        if delay:\n",
    "            print(f\"   ⏱️  Crawl-delay: {delay}s\")\n",
    "    except Exception as e:\n",
    "        print(f\"❗ Erro - {site}: {str(e)}\")"
   ]
  },
  {
   "cell_type": "markdown",
   "metadata": {},
   "source": [
    "### 2. Análise de Diferentes User-Agents"
   ]
  },
  {
   "cell_type": "code",
   "execution_count": 14,
   "metadata": {},
   "outputs": [
    {
     "name": "stderr",
     "output_type": "stream",
     "text": [
      "2025-09-04 12:58:30 - ScraperEtico - INFO - ScraperEtico initialized with user-agent: *\n"
     ]
    },
    {
     "name": "stdout",
     "output_type": "stream",
     "text": [
      "🤖 Testando diferentes user-agents em https://example.com\n"
     ]
    },
    {
     "name": "stderr",
     "output_type": "stream",
     "text": [
      "2025-09-04 12:58:31 - ScraperEtico - INFO - Successfully fetched robots.txt from https://example.com/robots.txt\n",
      "2025-09-04 12:58:31 - ScraperEtico - INFO - ScraperEtico initialized with user-agent: Googlebot\n"
     ]
    },
    {
     "name": "stdout",
     "output_type": "stream",
     "text": [
      "✅ *: Permitido\n"
     ]
    },
    {
     "name": "stderr",
     "output_type": "stream",
     "text": [
      "2025-09-04 12:58:32 - ScraperEtico - INFO - Successfully fetched robots.txt from https://example.com/robots.txt\n",
      "2025-09-04 12:58:32 - ScraperEtico - INFO - ScraperEtico initialized with user-agent: Bingbot\n"
     ]
    },
    {
     "name": "stdout",
     "output_type": "stream",
     "text": [
      "✅ Googlebot: Permitido\n"
     ]
    },
    {
     "name": "stderr",
     "output_type": "stream",
     "text": [
      "2025-09-04 12:58:33 - ScraperEtico - INFO - Successfully fetched robots.txt from https://example.com/robots.txt\n",
      "2025-09-04 12:58:33 - ScraperEtico - INFO - ScraperEtico initialized with user-agent: MeuBot/1.0\n"
     ]
    },
    {
     "name": "stdout",
     "output_type": "stream",
     "text": [
      "✅ Bingbot: Permitido\n"
     ]
    },
    {
     "name": "stderr",
     "output_type": "stream",
     "text": [
      "2025-09-04 12:58:33 - ScraperEtico - INFO - Successfully fetched robots.txt from https://example.com/robots.txt\n"
     ]
    },
    {
     "name": "stdout",
     "output_type": "stream",
     "text": [
      "✅ MeuBot/1.0: Permitido\n"
     ]
    }
   ],
   "source": [
    "# Testar diferentes user-agents no mesmo site\n",
    "site_teste = \"https://example.com\"\n",
    "user_agents = [\n",
    "    \"*\",  # Todos os bots\n",
    "    \"Googlebot\",\n",
    "    \"Bingbot\", \n",
    "    \"MeuBot/1.0\"\n",
    "]\n",
    "\n",
    "print(f\"🤖 Testando diferentes user-agents em {site_teste}\")\n",
    "for ua in user_agents:\n",
    "    scraper_temp = ScraperEtico(user_agent=ua)\n",
    "    resultado = scraper_temp.can_fetch(site_teste)\n",
    "    status = \"✅\" if resultado else \"❌\"\n",
    "    print(f\"{status} {ua}: {'Permitido' if resultado else 'Bloqueado'}\")"
   ]
  },
  {
   "cell_type": "markdown",
   "metadata": {},
   "source": "## 🎓 Parabéns! Você completou o tutorial\n\n### 🎉 **O que você aprendeu:**\n\n- ✅ Como fazer **scraping ético** respeitando robots.txt\n- ✅ Como processar **múltiplos sites** em lote  \n- ✅ Como **exportar dados** para CSV e JSON automaticamente\n- ✅ Como configurar **delays e user-agents** adequados\n- ✅ **Princípios éticos** fundamentais para web scraping\n\n### 🚀 **Próximos passos para produção:**\n\n1. **📄 Configure suas credenciais reais no arquivo `config_producao.py`:**\n   ```bash\n   cp config_producao.example.py config_producao.py\n   nano config_producao.py  # OU use seu editor preferido\n   ```\n\n2. **🧪 Teste seus sites específicos editando `teste_meus_sites.py`:**\n   ```bash\n   python3 teste_meus_sites.py\n   ```\n\n3. **🚀 Execute scraping em produção com `rodar_producao.py`:**\n   ```bash\n   python3 rodar_producao.py\n   ```\n\n4. **📊 Monitore e analise resultados com `analisar_resultados.py`:**\n   ```bash\n   python3 analisar_resultados.py\n   open dados_producao/monitoramento_*.csv\n   ```\n\n### 📚 **Arquivos importantes do projeto:**\n\n- **📖 `README.md`** - Documentação completa\n- **🧪 `teste_producao.py`** - Testes antes de produção  \n- **📊 `analisar_resultados.py`** - Análise automática\n- **🔧 `config_producao.py`** - Suas configurações personalizadas\n- **📝 `config_producao.example.py`** - Template de configuração\n- **🎯 `teste_meus_sites.py`** - Teste com seus sites específicos\n- **⚡ `rodar_producao.py`** - Script principal de produção\n- **📋 `checklist_producao.txt`** - Checklist antes de produção\n\n### 🛡️ **Lembre-se sempre:**\n\n> *\"Com grandes poderes vêm grandes responsabilidades\"*\n\n- **Sempre respeite robots.txt** (nunca tente contornar)\n- **Use delays adequados** (mínimo 3s para sites gov)  \n- **Identifique seu bot claramente** (user-agent com seus dados reais)\n- **Tenha propósito legítimo** (pesquisa, monitoramento público)\n- **Monitore logs regularmente** (pasta `logs/`)\n\n### 🆘 **Precisa de ajuda?**\n\n- 📖 **Leia `README.md`** - Documentação completa com exemplos\n- 🐛 **Problemas?** Abra uma issue no GitHub\n- 💬 **Dúvidas?** Use as GitHub Discussions\n\n**Agora você está pronto para fazer web scraping ético! 🤖✨**\n\n### 💡 **Dica final**: \nSempre comece testando com **poucos sites** (3-5) antes de escalar para centenas. O ScraperÉtico é robusto, mas ser conservador é sempre melhor!"
  }
 ],
 "metadata": {
  "kernelspec": {
   "display_name": "Python 3 (ipykernel)",
   "language": "python",
   "name": "python3"
  },
  "language_info": {
   "codemirror_mode": {
    "name": "ipython",
    "version": 3
   },
   "file_extension": ".py",
   "mimetype": "text/x-python",
   "name": "python",
   "nbconvert_exporter": "python",
   "pygments_lexer": "ipython3",
   "version": "3.8.5"
  }
 },
 "nbformat": 4,
 "nbformat_minor": 4
}